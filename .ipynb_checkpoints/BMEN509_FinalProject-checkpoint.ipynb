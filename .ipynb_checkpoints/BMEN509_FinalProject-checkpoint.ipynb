{
 "cells": [
  {
   "cell_type": "markdown",
   "id": "e51ae75e",
   "metadata": {},
   "source": [
    "# BMEN 509 Final Project\n",
    "\n"
   ]
  },
  {
   "cell_type": "code",
   "execution_count": null,
   "id": "d8cec8f7",
   "metadata": {},
   "outputs": [],
   "source": [
    "# Library Imports\n",
    "import os\n",
    "import numpy as np\n",
    "import matplotlib.pyplot as plt\n",
    "import math\n",
    "from skimage import io\n",
    "from scipy import signal, ndimage\n",
    "\n",
    "# Setup Jupyter notebook specifics\n",
    "%matplotlib inline"
   ]
  },
  {
   "cell_type": "code",
   "execution_count": null,
   "id": "393e47fa",
   "metadata": {},
   "outputs": [],
   "source": [
    "# Setting directory\n",
    "c_directory = os.path.join('.', 'Data', 'human_ht29_colon_cancer_1_images')"
   ]
  },
  {
   "cell_type": "code",
   "execution_count": null,
   "id": "19b42028",
   "metadata": {},
   "outputs": [],
   "source": [
    "# Reading input image\n",
    "c_img_1 = io.imread(os.path.join(c_directory, 'AS_09125_050118150001_A03f00d0.tif'))"
   ]
  },
  {
   "cell_type": "code",
   "execution_count": null,
   "id": "f5be76b1",
   "metadata": {},
   "outputs": [],
   "source": [
    "plt.imshow(c_img_1);"
   ]
  }
 ],
 "metadata": {
  "kernelspec": {
   "display_name": "Python 3 (ipykernel)",
   "language": "python",
   "name": "python3"
  },
  "language_info": {
   "codemirror_mode": {
    "name": "ipython",
    "version": 3
   },
   "file_extension": ".py",
   "mimetype": "text/x-python",
   "name": "python",
   "nbconvert_exporter": "python",
   "pygments_lexer": "ipython3",
   "version": "3.11.5"
  }
 },
 "nbformat": 4,
 "nbformat_minor": 5
}
